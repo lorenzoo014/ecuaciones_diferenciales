{
 "cells": [
  {
   "cell_type": "code",
   "execution_count": 6,
   "id": "2b141715-506f-457a-bb18-52b8702a5d84",
   "metadata": {},
   "outputs": [],
   "source": [
    "from sympy import *\n",
    "init_printing()"
   ]
  },
  {
   "cell_type": "code",
   "execution_count": 10,
   "id": "d7053723-fe04-4cc5-8054-9fd1def0be26",
   "metadata": {},
   "outputs": [
    {
     "data": {
      "image/png": "[encoded data removed]",
      "text/latex": [
       "$\\displaystyle x + \\frac{d}{d x} y{\\left(x \\right)}$"
      ],
      "text/plain": [
       "    d       \n",
       "x + ──(y(x))\n",
       "    dx      "
      ]
     },
     "execution_count": 10,
     "metadata": {},
     "output_type": "execute_result"
    }
   ],
   "source": [
    "x=symbols(\"x\")\n",
    "t=symbols(\"t\")\n",
    "y=Function(\"y\")\n",
    "y(x).diff(x, 1) + x"
   ]
  },
  {
   "cell_type": "markdown",
   "id": "b56ef2c5-d304-4e14-bd50-b770cdf4efe9",
   "metadata": {},
   "source": [
    "`y(x).diff(x, 1) + x` en esta expresión yo meto en la coma el orden que yo quiera y(x).diff(x, **2**) + x ahí por ejemplo seria orden 2"
   ]
  },
  {
   "cell_type": "code",
   "execution_count": 11,
   "id": "e0b7addf-0c28-4ef4-ad34-8700823f7545",
   "metadata": {},
   "outputs": [
    {
     "data": {
      "image/png": "[encoded data removed]",
      "text/latex": [
       "$\\displaystyle x + \\frac{d^{2}}{d x^{2}} y{\\left(x \\right)}$"
      ],
      "text/plain": [
       "      2      \n",
       "     d       \n",
       "x + ───(y(x))\n",
       "      2      \n",
       "    dx       "
      ]
     },
     "execution_count": 11,
     "metadata": {},
     "output_type": "execute_result"
    }
   ],
   "source": [
    "y(x).diff(x, 2) + x"
   ]
  },
  {
   "cell_type": "code",
   "execution_count": 15,
   "id": "2fd2533d-93b7-44d5-907f-f51123e2da62",
   "metadata": {},
   "outputs": [],
   "source": [
    "ed = Eq(y(x).diff() + 3*x**2*y(x) , 6*x**2)"
   ]
  },
  {
   "cell_type": "markdown",
   "id": "5fd71e0b-e36d-4d4d-b494-61b392755595",
   "metadata": {},
   "source": [
    "Funcion **dsolve()** para resolver la ec. diferencial"
   ]
  },
  {
   "cell_type": "code",
   "execution_count": 16,
   "id": "1978a293-589a-4223-8d8d-dd6b2a3f3634",
   "metadata": {},
   "outputs": [
    {
     "data": {
      "image/png": "[encoded data removed]",
      "text/latex": [
       "$\\displaystyle y{\\left(x \\right)} = C_{1} e^{- x^{3}} + 2$"
      ],
      "text/plain": [
       "             3    \n",
       "           -x     \n",
       "y(x) = C₁⋅ℯ    + 2"
      ]
     },
     "execution_count": 16,
     "metadata": {},
     "output_type": "execute_result"
    }
   ],
   "source": [
    "dsolve(ed,y(x))"
   ]
  },
  {
   "cell_type": "markdown",
   "id": "18551c45-2a99-4331-8ff6-e4bad1e91915",
   "metadata": {},
   "source": [
    "**PRIMERA EC. DIFERENCIAL RESUELTA**"
   ]
  },
  {
   "cell_type": "markdown",
   "id": "63c043e8-6f96-4db7-ae12-04f1eea6cab0",
   "metadata": {},
   "source": [
    "**EJEMPLO 2-->ECUACION DIFERENCIAL DE 2DO ORDEN**"
   ]
  },
  {
   "cell_type": "code",
   "execution_count": 17,
   "id": "5a803870-4da8-405b-9b63-a40f645eadb3",
   "metadata": {},
   "outputs": [],
   "source": [
    "x=symbols(\"x\")\n",
    "y=Function(\"y\")"
   ]
  },
  {
   "cell_type": "code",
   "execution_count": 20,
   "id": "553367ae-4f4e-4974-952d-24269c2d1b9a",
   "metadata": {},
   "outputs": [
    {
     "data": {
      "image/png": "[encoded data removed]",
      "text/latex": [
       "$\\displaystyle 9 y{\\left(x \\right)} + 12 \\frac{d}{d x} y{\\left(x \\right)} + 4 \\frac{d^{2}}{d x^{2}} y{\\left(x \\right)} = 0$"
      ],
      "text/plain": [
       "                           2          \n",
       "            d             d           \n",
       "9⋅y(x) + 12⋅──(y(x)) + 4⋅───(y(x)) = 0\n",
       "            dx             2          \n",
       "                         dx           "
      ]
     },
     "execution_count": 20,
     "metadata": {},
     "output_type": "execute_result"
    }
   ],
   "source": [
    "ed2 = Eq(4*y(x).diff(x,2) + 12*y(x).diff() + 9*y(x),0)\n",
    "ed2"
   ]
  },
  {
   "cell_type": "code",
   "execution_count": 22,
   "id": "a4178775-b606-420e-9ae5-aa2d46b8b957",
   "metadata": {},
   "outputs": [
    {
     "data": {
      "image/png": "[encoded data removed]",
      "text/latex": [
       "$\\displaystyle y{\\left(x \\right)} = \\left(C_{1} + C_{2} x\\right) e^{- \\frac{3 x}{2}}$"
      ],
      "text/plain": [
       "                    -3⋅x \n",
       "                    ─────\n",
       "                      2  \n",
       "y(x) = (C₁ + C₂⋅x)⋅ℯ     "
      ]
     },
     "execution_count": 22,
     "metadata": {},
     "output_type": "execute_result"
    }
   ],
   "source": [
    "dsolve(ed2,y(x))"
   ]
  },
  {
   "cell_type": "markdown",
   "id": "bbb42406-b5e5-4301-aa16-11ff4d5da4fa",
   "metadata": {},
   "source": [
    "**EJEMPLO 3-->ECUACION DIFERENCIAL CON VALOR INICIAL**"
   ]
  },
  {
   "cell_type": "code",
   "execution_count": null,
   "id": "bbdc17a3-7acd-42d1-85b8-66d1220a2b18",
   "metadata": {},
   "outputs": [],
   "source": [
    "t=symbols(\"t\")\n",
    "y=Function(\"y\")"
   ]
  },
  {
   "cell_type": "code",
   "execution_count": 27,
   "id": "4e87f59c-4b14-4d01-b863-abf5a8113f72",
   "metadata": {},
   "outputs": [
    {
     "data": {
      "image/png": "[encoded data removed]",
      "text/latex": [
       "$\\displaystyle 3 y{\\left(t \\right)} + \\frac{d}{d t} y{\\left(t \\right)} = 6 t + 5$"
      ],
      "text/plain": [
       "         d                 \n",
       "3⋅y(t) + ──(y(t)) = 6⋅t + 5\n",
       "         dt                "
      ]
     },
     "execution_count": 27,
     "metadata": {},
     "output_type": "execute_result"
    }
   ],
   "source": [
    "ed3 = Eq(y(t).diff() + 3*y(t) , 6*t + 5)\n",
    "CI={y(0):3}#condicion inicial\n",
    "ed3\n"
   ]
  },
  {
   "cell_type": "code",
   "execution_count": 30,
   "id": "d17b7bfe-37b7-4194-b146-039e8b1b8df0",
   "metadata": {},
   "outputs": [
    {
     "data": {
      "image/png": "[encoded data removed]",
      "text/latex": [
       "$\\displaystyle y{\\left(t \\right)} = 2 t + 1 + 2 e^{- 3 t}$"
      ],
      "text/plain": [
       "                    -3⋅t\n",
       "y(t) = 2⋅t + 1 + 2⋅ℯ    "
      ]
     },
     "execution_count": 30,
     "metadata": {},
     "output_type": "execute_result"
    }
   ],
   "source": [
    "dsolve(ed3, y(t), ics=CI)\n",
    "\n",
    "#si saliera una expresión rara que puede ocurrir (no es el caso) se puede utilizar la funcion simplify()\n",
    "#seria así en este caso--->simplify(dsolve(ed3, y(t), ics=CI))>"
   ]
  },
  {
   "cell_type": "markdown",
   "id": "03582290-9bce-4f53-9f66-aae29e47e3ac",
   "metadata": {},
   "source": [
    "**EJEMPLO 4--> ED DE SEGUNDO ORDEN CON VALOR INCIAL**"
   ]
  },
  {
   "cell_type": "code",
   "execution_count": null,
   "id": "e33e9c92-a5e6-4b54-ab47-cc15a311ae53",
   "metadata": {},
   "outputs": [],
   "source": [
    "X=symbols(\"X\")\n",
    "y=Function(\"y\")"
   ]
  },
  {
   "cell_type": "markdown",
   "id": "be9a8f86-eeda-43ed-afc1-5544d80fc4dc",
   "metadata": {},
   "source": [
    "Tener en cuenta que las CI son:  \n",
    "-y(0)=1  \n",
    "-y'(0)=0  \n",
    "El metodo **subs** se encarga de igualar a **k** lo que pille."
   ]
  },
  {
   "cell_type": "code",
   "execution_count": 31,
   "id": "7d358e60-ca76-4c5e-88a7-daa85f27c7f5",
   "metadata": {},
   "outputs": [
    {
     "data": {
      "image/png": "[encoded data removed]",
      "text/latex": [
       "$\\displaystyle - 6 y{\\left(x \\right)} + \\frac{d}{d x} y{\\left(x \\right)} + \\frac{d^{2}}{d x^{2}} y{\\left(x \\right)}$"
      ],
      "text/plain": [
       "                       2      \n",
       "          d           d       \n",
       "-6⋅y(x) + ──(y(x)) + ───(y(x))\n",
       "          dx           2      \n",
       "                     dx       "
      ]
     },
     "execution_count": 31,
     "metadata": {},
     "output_type": "execute_result"
    }
   ],
   "source": [
    "ed4= y(x).diff(x , 2) + y(x).diff() - 6*y(x)\n",
    "CI = {y(0):1 , y(x).diff().subs(0)}\n",
    "ed4"
   ]
  },
  {
   "cell_type": "code",
   "execution_count": 33,
   "id": "a5f75fb5-8c60-4f51-9d57-c7e4da559656",
   "metadata": {},
   "outputs": [
    {
     "data": {
      "image/png": "[encoded data removed]",
      "text/latex": [
       "$\\displaystyle y{\\left(x \\right)} = C_{2} e^{2 x} + \\left(3 - C_{2}\\right) e^{- 3 x}$"
      ],
      "text/plain": [
       "           2⋅x             -3⋅x\n",
       "y(x) = C₂⋅ℯ    + (3 - C₂)⋅ℯ    "
      ]
     },
     "execution_count": 33,
     "metadata": {},
     "output_type": "execute_result"
    }
   ],
   "source": [
    "dsolve(ed4, y(x), ics=CI)"
   ]
  },
  {
   "cell_type": "code",
   "execution_count": 34,
   "id": "3f3ac1a7-47fc-4e70-a4b8-5b3bc084f5a8",
   "metadata": {},
   "outputs": [
    {
     "data": {
      "image/png": "[encoded data removed]",
      "text/latex": [
       "$\\displaystyle y{\\left(x \\right)} = \\left(C_{2} e^{5 x} - C_{2} + 3\\right) e^{- 3 x}$"
      ],
      "text/plain": [
       "       ⎛    5⋅x         ⎞  -3⋅x\n",
       "y(x) = ⎝C₂⋅ℯ    - C₂ + 3⎠⋅ℯ    "
      ]
     },
     "execution_count": 34,
     "metadata": {},
     "output_type": "execute_result"
    }
   ],
   "source": [
    "simplify(dsolve(ed4, y(x), ics=CI))"
   ]
  },
  {
   "cell_type": "code",
   "execution_count": null,
   "id": "f9ac013d-46d8-416c-a7ed-48a339d9a93b",
   "metadata": {},
   "outputs": [],
   "source": []
  },
  {
   "cell_type": "code",
   "execution_count": null,
   "id": "2adf9d36-d75c-4cda-aa94-b3052d4b4152",
   "metadata": {},
   "outputs": [],
   "source": []
  },
  {
   "cell_type": "code",
   "execution_count": null,
   "id": "6b454498-c10f-428c-8ab8-a49de8eb179b",
   "metadata": {},
   "outputs": [],
   "source": []
  },
  {
   "cell_type": "code",
   "execution_count": null,
   "id": "d46f0c2a-903c-48ac-93fd-684e0e886726",
   "metadata": {},
   "outputs": [],
   "source": []
  },
  {
   "cell_type": "code",
   "execution_count": null,
   "id": "60db1209-d95f-4781-b703-ed4d0ff0794c",
   "metadata": {},
   "outputs": [],
   "source": []
  },
  {
   "cell_type": "code",
   "execution_count": null,
   "id": "ad4b1eac-09ae-455c-9506-9d737409e0f4",
   "metadata": {},
   "outputs": [],
   "source": []
  }
 ],
 "metadata": {
  "kernelspec": {
   "display_name": "Python 3 (ipykernel)",
   "language": "python",
   "name": "python3"
  },
  "language_info": {
   "codemirror_mode": {
    "name": "ipython",
    "version": 3
   },
   "file_extension": ".py",
   "mimetype": "text/x-python",
   "name": "python",
   "nbconvert_exporter": "python",
   "pygments_lexer": "ipython3",
   "version": "3.9.12"
  }
 },
 "nbformat": 4,
 "nbformat_minor": 5
}
